{
 "cells": [
  {
   "cell_type": "markdown",
   "metadata": {},
   "source": "# Get the data"
  },
  {
   "metadata": {},
   "cell_type": "markdown",
   "source": "Get the data processed in the previous notebook (Exploratory Data Analysis)"
  },
  {
   "cell_type": "code",
   "metadata": {
    "ExecuteTime": {
     "end_time": "2025-04-03T03:21:43.080901Z",
     "start_time": "2025-04-03T03:21:43.077892Z"
    }
   },
   "source": "import pandas as pd",
   "outputs": [],
   "execution_count": 1
  },
  {
   "cell_type": "code",
   "metadata": {
    "ExecuteTime": {
     "end_time": "2025-04-03T03:21:43.554954Z",
     "start_time": "2025-04-03T03:21:43.314303Z"
    }
   },
   "source": [
    "from src.constants import X_TRAIN_PATH, X_TEST_PATH, Y_TRAIN_PATH, Y_TEST_PATH\n",
    "\n",
    "# save the processed data to their corresponding files\n",
    "X_train_as_pd = pd.read_csv(filepath_or_buffer=X_TRAIN_PATH, sep=',')\n",
    "X_test_as_pd = pd.read_csv(filepath_or_buffer=X_TEST_PATH, sep=',')\n",
    "\n",
    "y_train = pd.read_csv(filepath_or_buffer=Y_TRAIN_PATH, sep=',')\n",
    "y_test = pd.read_csv(filepath_or_buffer=Y_TEST_PATH, sep=',')"
   ],
   "outputs": [],
   "execution_count": 2
  },
  {
   "cell_type": "code",
   "metadata": {
    "ExecuteTime": {
     "end_time": "2025-04-03T03:21:43.574032Z",
     "start_time": "2025-04-03T03:21:43.559005Z"
    }
   },
   "source": [
    "# verify x_train\n",
    "X_train_as_pd.head(1)"
   ],
   "outputs": [
    {
     "data": {
      "text/plain": [
       "   0  1  2  3  4  5  6  7  8  9  ...  3300  3301  3302  3303  3304  3305  \\\n",
       "0  0  0  0  0  0  0  0  0  0  0  ...     0     0     0     0     0     0   \n",
       "\n",
       "   3306  3307  3308  3309  \n",
       "0     0     0     0     0  \n",
       "\n",
       "[1 rows x 3310 columns]"
      ],
      "text/html": [
       "<div>\n",
       "<style scoped>\n",
       "    .dataframe tbody tr th:only-of-type {\n",
       "        vertical-align: middle;\n",
       "    }\n",
       "\n",
       "    .dataframe tbody tr th {\n",
       "        vertical-align: top;\n",
       "    }\n",
       "\n",
       "    .dataframe thead th {\n",
       "        text-align: right;\n",
       "    }\n",
       "</style>\n",
       "<table border=\"1\" class=\"dataframe\">\n",
       "  <thead>\n",
       "    <tr style=\"text-align: right;\">\n",
       "      <th></th>\n",
       "      <th>0</th>\n",
       "      <th>1</th>\n",
       "      <th>2</th>\n",
       "      <th>3</th>\n",
       "      <th>4</th>\n",
       "      <th>5</th>\n",
       "      <th>6</th>\n",
       "      <th>7</th>\n",
       "      <th>8</th>\n",
       "      <th>9</th>\n",
       "      <th>...</th>\n",
       "      <th>3300</th>\n",
       "      <th>3301</th>\n",
       "      <th>3302</th>\n",
       "      <th>3303</th>\n",
       "      <th>3304</th>\n",
       "      <th>3305</th>\n",
       "      <th>3306</th>\n",
       "      <th>3307</th>\n",
       "      <th>3308</th>\n",
       "      <th>3309</th>\n",
       "    </tr>\n",
       "  </thead>\n",
       "  <tbody>\n",
       "    <tr>\n",
       "      <th>0</th>\n",
       "      <td>0</td>\n",
       "      <td>0</td>\n",
       "      <td>0</td>\n",
       "      <td>0</td>\n",
       "      <td>0</td>\n",
       "      <td>0</td>\n",
       "      <td>0</td>\n",
       "      <td>0</td>\n",
       "      <td>0</td>\n",
       "      <td>0</td>\n",
       "      <td>...</td>\n",
       "      <td>0</td>\n",
       "      <td>0</td>\n",
       "      <td>0</td>\n",
       "      <td>0</td>\n",
       "      <td>0</td>\n",
       "      <td>0</td>\n",
       "      <td>0</td>\n",
       "      <td>0</td>\n",
       "      <td>0</td>\n",
       "      <td>0</td>\n",
       "    </tr>\n",
       "  </tbody>\n",
       "</table>\n",
       "<p>1 rows × 3310 columns</p>\n",
       "</div>"
      ]
     },
     "execution_count": 3,
     "metadata": {},
     "output_type": "execute_result"
    }
   ],
   "execution_count": 3
  },
  {
   "cell_type": "code",
   "metadata": {
    "ExecuteTime": {
     "end_time": "2025-04-03T03:21:43.922328Z",
     "start_time": "2025-04-03T03:21:43.913278Z"
    }
   },
   "source": [
    "# verify x_test\n",
    "X_test_as_pd.head(1)"
   ],
   "outputs": [
    {
     "data": {
      "text/plain": [
       "   0  1  2  3  4  5  6  7  8  9  ...  3300  3301  3302  3303  3304  3305  \\\n",
       "0  0  0  0  0  0  0  0  0  0  0  ...     0     0     0     0     0     0   \n",
       "\n",
       "   3306  3307  3308  3309  \n",
       "0     0     0     0     0  \n",
       "\n",
       "[1 rows x 3310 columns]"
      ],
      "text/html": [
       "<div>\n",
       "<style scoped>\n",
       "    .dataframe tbody tr th:only-of-type {\n",
       "        vertical-align: middle;\n",
       "    }\n",
       "\n",
       "    .dataframe tbody tr th {\n",
       "        vertical-align: top;\n",
       "    }\n",
       "\n",
       "    .dataframe thead th {\n",
       "        text-align: right;\n",
       "    }\n",
       "</style>\n",
       "<table border=\"1\" class=\"dataframe\">\n",
       "  <thead>\n",
       "    <tr style=\"text-align: right;\">\n",
       "      <th></th>\n",
       "      <th>0</th>\n",
       "      <th>1</th>\n",
       "      <th>2</th>\n",
       "      <th>3</th>\n",
       "      <th>4</th>\n",
       "      <th>5</th>\n",
       "      <th>6</th>\n",
       "      <th>7</th>\n",
       "      <th>8</th>\n",
       "      <th>9</th>\n",
       "      <th>...</th>\n",
       "      <th>3300</th>\n",
       "      <th>3301</th>\n",
       "      <th>3302</th>\n",
       "      <th>3303</th>\n",
       "      <th>3304</th>\n",
       "      <th>3305</th>\n",
       "      <th>3306</th>\n",
       "      <th>3307</th>\n",
       "      <th>3308</th>\n",
       "      <th>3309</th>\n",
       "    </tr>\n",
       "  </thead>\n",
       "  <tbody>\n",
       "    <tr>\n",
       "      <th>0</th>\n",
       "      <td>0</td>\n",
       "      <td>0</td>\n",
       "      <td>0</td>\n",
       "      <td>0</td>\n",
       "      <td>0</td>\n",
       "      <td>0</td>\n",
       "      <td>0</td>\n",
       "      <td>0</td>\n",
       "      <td>0</td>\n",
       "      <td>0</td>\n",
       "      <td>...</td>\n",
       "      <td>0</td>\n",
       "      <td>0</td>\n",
       "      <td>0</td>\n",
       "      <td>0</td>\n",
       "      <td>0</td>\n",
       "      <td>0</td>\n",
       "      <td>0</td>\n",
       "      <td>0</td>\n",
       "      <td>0</td>\n",
       "      <td>0</td>\n",
       "    </tr>\n",
       "  </tbody>\n",
       "</table>\n",
       "<p>1 rows × 3310 columns</p>\n",
       "</div>"
      ]
     },
     "execution_count": 4,
     "metadata": {},
     "output_type": "execute_result"
    }
   ],
   "execution_count": 4
  },
  {
   "cell_type": "code",
   "metadata": {
    "ExecuteTime": {
     "end_time": "2025-04-03T03:21:43.936592Z",
     "start_time": "2025-04-03T03:21:43.930582Z"
    }
   },
   "source": [
    "# verify y_train\n",
    "y_train.head(2)"
   ],
   "outputs": [
    {
     "data": {
      "text/plain": [
       "   polarity\n",
       "0         0\n",
       "1         0"
      ],
      "text/html": [
       "<div>\n",
       "<style scoped>\n",
       "    .dataframe tbody tr th:only-of-type {\n",
       "        vertical-align: middle;\n",
       "    }\n",
       "\n",
       "    .dataframe tbody tr th {\n",
       "        vertical-align: top;\n",
       "    }\n",
       "\n",
       "    .dataframe thead th {\n",
       "        text-align: right;\n",
       "    }\n",
       "</style>\n",
       "<table border=\"1\" class=\"dataframe\">\n",
       "  <thead>\n",
       "    <tr style=\"text-align: right;\">\n",
       "      <th></th>\n",
       "      <th>polarity</th>\n",
       "    </tr>\n",
       "  </thead>\n",
       "  <tbody>\n",
       "    <tr>\n",
       "      <th>0</th>\n",
       "      <td>0</td>\n",
       "    </tr>\n",
       "    <tr>\n",
       "      <th>1</th>\n",
       "      <td>0</td>\n",
       "    </tr>\n",
       "  </tbody>\n",
       "</table>\n",
       "</div>"
      ]
     },
     "execution_count": 5,
     "metadata": {},
     "output_type": "execute_result"
    }
   ],
   "execution_count": 5
  },
  {
   "metadata": {
    "ExecuteTime": {
     "end_time": "2025-04-03T03:21:43.987216Z",
     "start_time": "2025-04-03T03:21:43.981690Z"
    }
   },
   "cell_type": "code",
   "source": [
    "# verify y_test\n",
    "y_test.head(2)"
   ],
   "outputs": [
    {
     "data": {
      "text/plain": [
       "   polarity\n",
       "0         0\n",
       "1         1"
      ],
      "text/html": [
       "<div>\n",
       "<style scoped>\n",
       "    .dataframe tbody tr th:only-of-type {\n",
       "        vertical-align: middle;\n",
       "    }\n",
       "\n",
       "    .dataframe tbody tr th {\n",
       "        vertical-align: top;\n",
       "    }\n",
       "\n",
       "    .dataframe thead th {\n",
       "        text-align: right;\n",
       "    }\n",
       "</style>\n",
       "<table border=\"1\" class=\"dataframe\">\n",
       "  <thead>\n",
       "    <tr style=\"text-align: right;\">\n",
       "      <th></th>\n",
       "      <th>polarity</th>\n",
       "    </tr>\n",
       "  </thead>\n",
       "  <tbody>\n",
       "    <tr>\n",
       "      <th>0</th>\n",
       "      <td>0</td>\n",
       "    </tr>\n",
       "    <tr>\n",
       "      <th>1</th>\n",
       "      <td>1</td>\n",
       "    </tr>\n",
       "  </tbody>\n",
       "</table>\n",
       "</div>"
      ]
     },
     "execution_count": 6,
     "metadata": {},
     "output_type": "execute_result"
    }
   ],
   "execution_count": 6
  },
  {
   "metadata": {},
   "cell_type": "markdown",
   "source": "## Transform the data to a numpy object"
  },
  {
   "metadata": {
    "ExecuteTime": {
     "end_time": "2025-04-03T03:21:44.111969Z",
     "start_time": "2025-04-03T03:21:44.108598Z"
    }
   },
   "cell_type": "code",
   "source": [
    "X_train = X_train_as_pd.to_numpy()\n",
    "X_test = X_test_as_pd.to_numpy()"
   ],
   "outputs": [],
   "execution_count": 7
  },
  {
   "metadata": {
    "ExecuteTime": {
     "end_time": "2025-04-03T03:21:46.660266Z",
     "start_time": "2025-04-03T03:21:46.656230Z"
    }
   },
   "cell_type": "code",
   "source": "print(X_train)",
   "outputs": [
    {
     "name": "stdout",
     "output_type": "stream",
     "text": [
      "[[0 0 0 ... 0 0 0]\n",
      " [0 0 0 ... 0 0 0]\n",
      " [0 0 0 ... 0 0 0]\n",
      " ...\n",
      " [0 0 0 ... 0 0 0]\n",
      " [0 0 0 ... 0 0 0]\n",
      " [0 0 0 ... 0 0 0]]\n"
     ]
    }
   ],
   "execution_count": 8
  },
  {
   "cell_type": "markdown",
   "metadata": {},
   "source": "# Lets compare the three models"
  },
  {
   "metadata": {},
   "cell_type": "markdown",
   "source": "First we believed that the best model would be the Binomial naive bayes, because we believed the data was \"binary\", but that happened thanks to a misunderstood of how the vectorizer works. Knowing that the iput data is not binary, because the features are representing discrete counts or frequencies. So the best performing model should be the Multinomial."
  },
  {
   "cell_type": "markdown",
   "metadata": {},
   "source": "## Step 1: Initialization and training of the models"
  },
  {
   "cell_type": "code",
   "metadata": {
    "ExecuteTime": {
     "end_time": "2025-04-03T03:21:47.291066Z",
     "start_time": "2025-04-03T03:21:47.123065Z"
    }
   },
   "source": [
    "from sklearn.naive_bayes import BernoulliNB, GaussianNB, MultinomialNB\n",
    "\n",
    "bernoulli_model = BernoulliNB()\n",
    "bernoulli_model.fit(X_train, y_train['polarity'])\n",
    "\n",
    "gaussian_model = GaussianNB()\n",
    "gaussian_model.fit(X_train, y_train['polarity'])\n",
    "\n",
    "multinomial_model = MultinomialNB()\n",
    "multinomial_model.fit(X_train, y_train['polarity'])\n",
    "\n",
    "models = [\n",
    "    {\n",
    "        'name': 'BernoulliNB',\n",
    "        'model': bernoulli_model\n",
    "    },\n",
    "    {\n",
    "        'name': 'GaussianNB',\n",
    "        'model': gaussian_model\n",
    "    },\n",
    "    {\n",
    "        'name': 'MultinomialNB',\n",
    "        'model': multinomial_model\n",
    "    },\n",
    "]"
   ],
   "outputs": [],
   "execution_count": 9
  },
  {
   "cell_type": "markdown",
   "metadata": {},
   "source": "## Step 2: Test the models"
  },
  {
   "cell_type": "code",
   "metadata": {
    "ExecuteTime": {
     "end_time": "2025-04-03T03:21:50.051697Z",
     "start_time": "2025-04-03T03:21:49.876371Z"
    }
   },
   "source": [
    "from sklearn.metrics import (accuracy_score, precision_score, recall_score,\n",
    "                             f1_score, roc_auc_score, confusion_matrix,\n",
    "                             )\n",
    "\n",
    "metrics = pd.DataFrame(columns=['name', 'accuracy', 'precision', 'recall', 'f1', 'roc_auc', 'model_confusion'])\n",
    "\n",
    "# for each model calculate their metrics\n",
    "for idx, model in enumerate(models):\n",
    "    # make the prediction\n",
    "    y_pred = model['model'].predict(X_test)\n",
    "    \n",
    "    # make the prediction of the probabilities of being one class or another\n",
    "    y_prob = model['model'].predict_proba(X_test)\n",
    "    \n",
    "    # calculate the metrics\n",
    "    model_accuracy = accuracy_score(y_test, y_pred)\n",
    "    model_precision = precision_score(y_test, y_pred)\n",
    "    model_recall = recall_score(y_test, y_pred)\n",
    "    model_f1 = f1_score(y_test, y_pred)\n",
    "    model_auc_roc = roc_auc_score(y_test, y_prob[:, 1])\n",
    "    model_confusion = confusion_matrix(y_test, y_pred)\n",
    "\n",
    "    # add the metrics to the dataframe\n",
    "    metrics.loc[idx] = [\n",
    "        model['name'],\n",
    "        model_accuracy,\n",
    "        model_precision,\n",
    "        model_recall,\n",
    "        model_f1,\n",
    "        model_auc_roc,\n",
    "        model_confusion\n",
    "    ]"
   ],
   "outputs": [],
   "execution_count": 10
  },
  {
   "metadata": {
    "ExecuteTime": {
     "end_time": "2025-04-03T03:21:50.066216Z",
     "start_time": "2025-04-03T03:21:50.055700Z"
    }
   },
   "cell_type": "code",
   "source": "metrics.head()",
   "outputs": [
    {
     "data": {
      "text/plain": [
       "            name  accuracy  precision    recall        f1   roc_auc  \\\n",
       "0    BernoulliNB  0.770950   0.700000  0.396226  0.506024  0.843816   \n",
       "1     GaussianNB  0.804469   0.687500  0.622642  0.653465  0.751797   \n",
       "2  MultinomialNB  0.815642   0.727273  0.603774  0.659794  0.849955   \n",
       "\n",
       "         model_confusion  \n",
       "0   [[117, 9], [32, 21]]  \n",
       "1  [[111, 15], [20, 33]]  \n",
       "2  [[114, 12], [21, 32]]  "
      ],
      "text/html": [
       "<div>\n",
       "<style scoped>\n",
       "    .dataframe tbody tr th:only-of-type {\n",
       "        vertical-align: middle;\n",
       "    }\n",
       "\n",
       "    .dataframe tbody tr th {\n",
       "        vertical-align: top;\n",
       "    }\n",
       "\n",
       "    .dataframe thead th {\n",
       "        text-align: right;\n",
       "    }\n",
       "</style>\n",
       "<table border=\"1\" class=\"dataframe\">\n",
       "  <thead>\n",
       "    <tr style=\"text-align: right;\">\n",
       "      <th></th>\n",
       "      <th>name</th>\n",
       "      <th>accuracy</th>\n",
       "      <th>precision</th>\n",
       "      <th>recall</th>\n",
       "      <th>f1</th>\n",
       "      <th>roc_auc</th>\n",
       "      <th>model_confusion</th>\n",
       "    </tr>\n",
       "  </thead>\n",
       "  <tbody>\n",
       "    <tr>\n",
       "      <th>0</th>\n",
       "      <td>BernoulliNB</td>\n",
       "      <td>0.770950</td>\n",
       "      <td>0.700000</td>\n",
       "      <td>0.396226</td>\n",
       "      <td>0.506024</td>\n",
       "      <td>0.843816</td>\n",
       "      <td>[[117, 9], [32, 21]]</td>\n",
       "    </tr>\n",
       "    <tr>\n",
       "      <th>1</th>\n",
       "      <td>GaussianNB</td>\n",
       "      <td>0.804469</td>\n",
       "      <td>0.687500</td>\n",
       "      <td>0.622642</td>\n",
       "      <td>0.653465</td>\n",
       "      <td>0.751797</td>\n",
       "      <td>[[111, 15], [20, 33]]</td>\n",
       "    </tr>\n",
       "    <tr>\n",
       "      <th>2</th>\n",
       "      <td>MultinomialNB</td>\n",
       "      <td>0.815642</td>\n",
       "      <td>0.727273</td>\n",
       "      <td>0.603774</td>\n",
       "      <td>0.659794</td>\n",
       "      <td>0.849955</td>\n",
       "      <td>[[114, 12], [21, 32]]</td>\n",
       "    </tr>\n",
       "  </tbody>\n",
       "</table>\n",
       "</div>"
      ]
     },
     "execution_count": 11,
     "metadata": {},
     "output_type": "execute_result"
    }
   ],
   "execution_count": 11
  },
  {
   "cell_type": "markdown",
   "metadata": {},
   "source": "We can see that the Multinomial model is the best in the accuracy, precision and f1-score. The Gaussian model is the second best and the Bernoulli model has the worst metrics in almost all of them. Let's see the confusion matrix of each model."
  },
  {
   "cell_type": "code",
   "metadata": {
    "ExecuteTime": {
     "end_time": "2025-04-03T03:21:50.589326Z",
     "start_time": "2025-04-03T03:21:50.123318Z"
    }
   },
   "source": [
    "from src.draw_utils import get_groups_for_confusion_matrix\n",
    "import matplotlib.pyplot as plt\n",
    "import seaborn as sns\n",
    "import numpy as np\n",
    "\n",
    "_, axis = plt.subplots(1, 3, figsize=(20, 7))\n",
    "group_names = ['True Neg', 'False Pos', 'False Neg', 'True Pos']\n",
    "\n",
    "for row in metrics.itertuples():\n",
    "    # get the confusion matrix\n",
    "    confusion_matrix = row[7]\n",
    "\n",
    "    # create the groups to display\n",
    "    group_counts, group_percentages = get_groups_for_confusion_matrix(confusion=confusion_matrix)\n",
    "\n",
    "    # labels to display\n",
    "    labels = [f'{v1}\\n{v2}\\n{v3}' for v1, v2, v3 in zip(group_names, group_counts, group_percentages)]\n",
    "    labels = np.asarray(labels).reshape(2, 2)\n",
    "\n",
    "    # draw the confusion matrix\n",
    "    sns.heatmap(\n",
    "        ax=axis[row[0]],\n",
    "        data=confusion_matrix,\n",
    "        annot=labels,\n",
    "        fmt=''\n",
    "    ).set(\n",
    "        xlabel=f'{row[1]} - True label', ylabel='Predicted label'\n",
    "        )\n",
    "\n",
    "plt.tight_layout()\n",
    "plt.show()\n"
   ],
   "outputs": [
    {
     "data": {
      "text/plain": [
       "<Figure size 2000x700 with 6 Axes>"
      ],
      "image/png": "[encoded data removed]"
     },
     "metadata": {},
     "output_type": "display_data"
    }
   ],
   "execution_count": 12
  },
  {
   "cell_type": "markdown",
   "metadata": {},
   "source": "We can see that indeed the Multinomial naive bayes is the best model, it has the best overall performance, is not the best in setting 0 or 1 label, but has the best overall classification."
  },
  {
   "metadata": {},
   "cell_type": "markdown",
   "source": "# Option 2. Optimize the MultinomialNB"
  },
  {
   "cell_type": "code",
   "metadata": {
    "ExecuteTime": {
     "end_time": "2025-04-03T03:21:50.622756Z",
     "start_time": "2025-04-03T03:21:50.619636Z"
    }
   },
   "source": [
    "# create the new model\n",
    "multinomial_opt_model = MultinomialNB()"
   ],
   "outputs": [],
   "execution_count": 13
  },
  {
   "cell_type": "markdown",
   "metadata": {},
   "source": "## Step 1: Create the hyperparameter optimization model"
  },
  {
   "cell_type": "code",
   "metadata": {
    "ExecuteTime": {
     "end_time": "2025-04-03T03:21:50.685777Z",
     "start_time": "2025-04-03T03:21:50.670256Z"
    }
   },
   "source": [
    "from sklearn.model_selection import GridSearchCV\n",
    "\n",
    "# define the parameters that we want to adjust by hand, depends on the model to use\n",
    "param_grid = {\n",
    "    'alpha': [0.01, 0.1, 0.5, 1.0, 2.0, 5.0, 10.0],\n",
    "    'fit_prior': [True, False]\n",
    "}\n",
    "\n",
    "# initialize the grid\n",
    "grid = GridSearchCV(multinomial_opt_model, param_grid, scoring='accuracy', cv=5, n_jobs=-1, verbose=1)"
   ],
   "outputs": [],
   "execution_count": 14
  },
  {
   "cell_type": "markdown",
   "metadata": {},
   "source": [
    "## Step 2: Fit the model"
   ]
  },
  {
   "cell_type": "code",
   "metadata": {
    "ExecuteTime": {
     "end_time": "2025-04-03T03:21:55.300821Z",
     "start_time": "2025-04-03T03:21:50.713375Z"
    }
   },
   "source": [
    "grid.fit(X_train, y_train['polarity'])\n",
    "\n",
    "print(f\"Best hyperparameters: {grid.best_params_}\")"
   ],
   "outputs": [
    {
     "name": "stdout",
     "output_type": "stream",
     "text": [
      "Fitting 5 folds for each of 14 candidates, totalling 70 fits\n",
      "Best hyperparameters: {'alpha': 2.0, 'fit_prior': False}\n"
     ]
    }
   ],
   "execution_count": 15
  },
  {
   "cell_type": "markdown",
   "metadata": {},
   "source": [
    "## Step 3: Get the best model and predict"
   ]
  },
  {
   "cell_type": "code",
   "metadata": {
    "ExecuteTime": {
     "end_time": "2025-04-03T03:21:55.326409Z",
     "start_time": "2025-04-03T03:21:55.322890Z"
    }
   },
   "source": [
    "# get the best parameters and model\n",
    "best_model: MultinomialNB = grid.best_estimator_"
   ],
   "outputs": [],
   "execution_count": 16
  },
  {
   "cell_type": "code",
   "metadata": {
    "ExecuteTime": {
     "end_time": "2025-04-03T03:21:55.354793Z",
     "start_time": "2025-04-03T03:21:55.349417Z"
    }
   },
   "source": [
    "# predict the values\n",
    "y_pred = best_model.predict(X_test)"
   ],
   "outputs": [],
   "execution_count": 17
  },
  {
   "cell_type": "code",
   "metadata": {
    "ExecuteTime": {
     "end_time": "2025-04-03T03:21:55.384849Z",
     "start_time": "2025-04-03T03:21:55.377845Z"
    }
   },
   "source": [
    "# make the prediction of the probabilities of being one class or another\n",
    "y_prob = best_model.predict_proba(X_test)"
   ],
   "outputs": [],
   "execution_count": 18
  },
  {
   "cell_type": "markdown",
   "metadata": {},
   "source": "## Step 4: Metrics of the model"
  },
  {
   "cell_type": "code",
   "metadata": {
    "ExecuteTime": {
     "end_time": "2025-04-03T03:21:55.445441Z",
     "start_time": "2025-04-03T03:21:55.409892Z"
    }
   },
   "source": [
    "from sklearn.metrics import (accuracy_score, precision_score, recall_score,\n",
    "                             f1_score, roc_auc_score, confusion_matrix,\n",
    "                             log_loss, classification_report)\n",
    "\n",
    "optimized_model_accuracy = accuracy_score(y_test, y_pred)\n",
    "optimized_model_precision = precision_score(y_test, y_pred)\n",
    "optimized_model_recall = recall_score(y_test, y_pred)\n",
    "optimized_model_f1 = f1_score(y_test, y_pred)\n",
    "optimized_model_auc_roc = roc_auc_score(y_test, y_prob[:, 1])\n",
    "optimized_model_confusion = confusion_matrix(y_test, y_pred)\n",
    "optimized_model_report = classification_report(y_test, y_pred)\n",
    "\n",
    "print(f'Accuracy: {optimized_model_accuracy}')\n",
    "print(f'Precision: {optimized_model_precision}')\n",
    "print(f'Recall: {optimized_model_recall}')\n",
    "print(f'F1-Score: {optimized_model_f1}')\n",
    "print(f'AUC-ROC: {optimized_model_auc_roc}')\n",
    "print(f'Classification Report:\\n{optimized_model_report}')"
   ],
   "outputs": [
    {
     "name": "stdout",
     "output_type": "stream",
     "text": [
      "Accuracy: 0.8212290502793296\n",
      "Precision: 0.723404255319149\n",
      "Recall: 0.6415094339622641\n",
      "F1-Score: 0.68\n",
      "AUC-ROC: 0.8442647499251273\n",
      "Classification Report:\n",
      "              precision    recall  f1-score   support\n",
      "\n",
      "           0       0.86      0.90      0.88       126\n",
      "           1       0.72      0.64      0.68        53\n",
      "\n",
      "    accuracy                           0.82       179\n",
      "   macro avg       0.79      0.77      0.78       179\n",
      "weighted avg       0.82      0.82      0.82       179\n",
      "\n"
     ]
    }
   ],
   "execution_count": 19
  },
  {
   "cell_type": "code",
   "metadata": {
    "ExecuteTime": {
     "end_time": "2025-04-03T03:21:55.585163Z",
     "start_time": "2025-04-03T03:21:55.470928Z"
    }
   },
   "source": [
    "from src.draw_utils import draw_confusion_matrix\n",
    "\n",
    "draw_confusion_matrix(confusion=optimized_model_confusion)"
   ],
   "outputs": [
    {
     "data": {
      "text/plain": [
       "<Figure size 500x500 with 2 Axes>"
      ],
      "image/png": "[encoded data removed]"
     },
     "metadata": {},
     "output_type": "display_data"
    }
   ],
   "execution_count": 20
  },
  {
   "cell_type": "markdown",
   "metadata": {},
   "source": [
    "The interpretation of a confusion matrix is as follows:\n",
    "\n",
    "- **True positive (TP)**: corresponds to the number 113 and are the cases where the model predicted positive **(the person has diabetes)** and the actual class is also positive.\n",
    "- **True negative (TN)**: Corresponds to the number 34 and are the cases where the model predicted negative **(the person does not have diabetes)** and the actual class is also negative.\n",
    "- **False positive (FP)**: Corresponds to the number 13 and are the cases in which the model predicted positive, but the actual class is negative.\n",
    "- **False negative (FN)**: Corresponds to the number 19 and are the cases where the model predicted negative, but the actual class is positive."
   ]
  },
  {
   "metadata": {},
   "cell_type": "markdown",
   "source": "# Conclusion"
  },
  {
   "metadata": {
    "ExecuteTime": {
     "end_time": "2025-04-03T03:21:55.616946Z",
     "start_time": "2025-04-03T03:21:55.609926Z"
    }
   },
   "cell_type": "code",
   "source": [
    "\n",
    "from src.markdown_utils import show_comparison_table\n",
    "\n",
    "# set the metrics to use\n",
    "metric_list: list[str] = ['Accuracy', 'Precision', 'Recall', 'F1-Score', 'AUC-ROC']\n",
    "\n",
    "# get the metrics of the default and optimized list values\n",
    "default_model_metrics: list[float] = [metrics.loc[2, 'accuracy'], metrics.loc[2, 'precision'], metrics.loc[2, 'recall'],\n",
    "                                      metrics.loc[2, 'f1'], metrics.loc[2, 'roc_auc']]\n",
    "optimized_model_metrics: list[float] = [optimized_model_accuracy, optimized_model_precision, optimized_model_recall,\n",
    "                                        optimized_model_f1, optimized_model_auc_roc]\n",
    "\n",
    "# construct the Markdown table\n",
    "show_comparison_table(\n",
    "    metric_names=metric_list,\n",
    "    default_metrics=default_model_metrics,\n",
    "    optimized_metrics=optimized_model_metrics,\n",
    ")"
   ],
   "outputs": [
    {
     "data": {
      "text/plain": [
       "<IPython.core.display.Markdown object>"
      ],
      "text/markdown": "| Metric | Default Model | Optimized Model |\n|---|---|---|\n| Accuracy | 0.816 | 0.821 |\n| Precision | 0.727 | 0.723 |\n| Recall | 0.604 | 0.642 |\n| F1-Score | 0.66 | 0.68 |\n| AUC-ROC | 0.85 | 0.844 |\n"
     },
     "metadata": {},
     "output_type": "display_data"
    }
   ],
   "execution_count": 21
  },
  {
   "metadata": {
    "ExecuteTime": {
     "end_time": "2025-04-03T03:22:09.737054Z",
     "start_time": "2025-04-03T03:22:09.494883Z"
    }
   },
   "cell_type": "code",
   "source": [
    "from src.draw_utils import draw_comparison_confusion_matrices\n",
    "\n",
    "draw_comparison_confusion_matrices(\n",
    "    confusion_1=metrics.loc[2, 'model_confusion'], confusion_2=optimized_model_confusion, confusion_matrix_1_name='Default model',\n",
    "    confusion_matrix_2_name='Optimized model'\n",
    "    )"
   ],
   "outputs": [
    {
     "data": {
      "text/plain": [
       "<Figure size 2000x700 with 4 Axes>"
      ],
      "image/png": "[encoded data removed]"
     },
     "metadata": {},
     "output_type": "display_data"
    },
    {
     "data": {
      "text/plain": [
       "<Figure size 1000x500 with 0 Axes>"
      ]
     },
     "metadata": {},
     "output_type": "display_data"
    }
   ],
   "execution_count": 23
  },
  {
   "metadata": {},
   "cell_type": "markdown",
   "source": "We can see that the optimized model is better in almost all the metrics, but the default model has better precision and auc_roc. The optimized model is better in the accuracy, recall and f1-scorem which makes it better with the label that has the least amount of values from data."
  },
  {
   "metadata": {},
   "cell_type": "markdown",
   "source": [
    "# Save the final model\n",
    "\n",
    "Save the final model for future use"
   ]
  },
  {
   "metadata": {
    "ExecuteTime": {
     "end_time": "2025-04-03T03:28:01.116024Z",
     "start_time": "2025-04-03T03:28:01.111983Z"
    }
   },
   "cell_type": "code",
   "source": [
    "from pickle import dump\n",
    "\n",
    "dump(model, open(\"../models/naive_bayes_opt_multinomial.sav\", \"wb\"))"
   ],
   "outputs": [],
   "execution_count": 25
  }
 ],
 "metadata": {
  "kernelspec": {
   "display_name": "ds_venv",
   "language": "python",
   "name": "python3"
  },
  "language_info": {
   "codemirror_mode": {
    "name": "ipython",
    "version": 3
   },
   "file_extension": ".py",
   "mimetype": "text/x-python",
   "name": "python",
   "nbconvert_exporter": "python",
   "pygments_lexer": "ipython3",
   "version": "3.12.9"
  }
 },
 "nbformat": 4,
 "nbformat_minor": 2
}
